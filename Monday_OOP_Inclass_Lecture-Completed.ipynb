{
 "cells": [
  {
   "cell_type": "markdown",
   "metadata": {},
   "source": [
    "# Object-Oriented-Programming (OOP)"
   ]
  },
  {
   "cell_type": "markdown",
   "metadata": {},
   "source": [
    "## Tasks Today:\n",
    "\n",
    "   \n",
    "\n",
    "1) <b>Creating a Class (Initializing/Declaring)</b> <br>\n",
    "2) <b>Using a Class (Instantiating)</b> <br>\n",
    " &nbsp;&nbsp;&nbsp;&nbsp; a) Creating One Instance <br>\n",
    " &nbsp;&nbsp;&nbsp;&nbsp; b) Creating Multiple Instances <br>\n",
    " &nbsp;&nbsp;&nbsp;&nbsp; c) In-Class Exercise #1 - Create a Class 'Car' and instantiate three different makes of cars <br>\n",
    "3) <b>The \\__init\\__() Method</b> <br>\n",
    " &nbsp;&nbsp;&nbsp;&nbsp; a) The 'self' Attribute <br>\n",
    "4) <b>Class Attributes</b> <br>\n",
    " &nbsp;&nbsp;&nbsp;&nbsp; a) Initializing Attributes <br>\n",
    " &nbsp;&nbsp;&nbsp;&nbsp; b) Setting an Attribute Outside of the \\__init\\__() Method <br>\n",
    " &nbsp;&nbsp;&nbsp;&nbsp; c) Setting Defaults for Attributes <br>\n",
    " &nbsp;&nbsp;&nbsp;&nbsp; d) Accessing Class Attributes <br>\n",
    " &nbsp;&nbsp;&nbsp;&nbsp; e) Changing Class Attributes <br>\n",
    " &nbsp;&nbsp;&nbsp;&nbsp; f) In-Class Exercise #2 - Update your 'Car' class with \\__init\\__() method and class attributes<br>\n",
    "5) <b>Class Methods</b> <br>\n",
    " &nbsp;&nbsp;&nbsp;&nbsp; a) Creating <br>\n",
    " &nbsp;&nbsp;&nbsp;&nbsp; b) Calling <br>\n",
    " &nbsp;&nbsp;&nbsp;&nbsp; c) Modifying an Attribute's Value Through a Method <br>\n",
    " &nbsp;&nbsp;&nbsp;&nbsp; d) Incrementing an Attribute's Value Through a Method <br>\n",
    " &nbsp;&nbsp;&nbsp;&nbsp; e) In-Class Exercise #3 - Update Car class with new methods <br>\n",
    "6) <b>Classes as Attributes</b> <br>\n",
    "8) <b>Exercises</b> <br>\n",
    " &nbsp;&nbsp;&nbsp;&nbsp; a) Exercise #1 - Turn the shopping cart program from yesterday into an object-oriented program <br>\n",
    "  &nbsp;&nbsp;&nbsp;&nbsp; a) Exercise #2 - Create an Animal class with Eat, Sleep, and Play methods <br>"
   ]
  },
  {
   "cell_type": "code",
   "execution_count": 9,
   "metadata": {},
   "outputs": [
    {
     "name": "stdout",
     "output_type": "stream",
     "text": [
      "Help on class str in module builtins:\n",
      "\n",
      "class str(object)\n",
      " |  str(object='') -> str\n",
      " |  str(bytes_or_buffer[, encoding[, errors]]) -> str\n",
      " |  \n",
      " |  Create a new string object from the given object. If encoding or\n",
      " |  errors is specified, then the object must expose a data buffer\n",
      " |  that will be decoded using the given encoding and error handler.\n",
      " |  Otherwise, returns the result of object.__str__() (if defined)\n",
      " |  or repr(object).\n",
      " |  encoding defaults to sys.getdefaultencoding().\n",
      " |  errors defaults to 'strict'.\n",
      " |  \n",
      " |  Methods defined here:\n",
      " |  \n",
      " |  __add__(self, value, /)\n",
      " |      Return self+value.\n",
      " |  \n",
      " |  __contains__(self, key, /)\n",
      " |      Return key in self.\n",
      " |  \n",
      " |  __eq__(self, value, /)\n",
      " |      Return self==value.\n",
      " |  \n",
      " |  __format__(self, format_spec, /)\n",
      " |      Return a formatted version of the string as described by format_spec.\n",
      " |  \n",
      " |  __ge__(self, value, /)\n",
      " |      Return self>=value.\n",
      " |  \n",
      " |  __getattribute__(self, name, /)\n",
      " |      Return getattr(self, name).\n",
      " |  \n",
      " |  __getitem__(self, key, /)\n",
      " |      Return self[key].\n",
      " |  \n",
      " |  __getnewargs__(...)\n",
      " |  \n",
      " |  __gt__(self, value, /)\n",
      " |      Return self>value.\n",
      " |  \n",
      " |  __hash__(self, /)\n",
      " |      Return hash(self).\n",
      " |  \n",
      " |  __iter__(self, /)\n",
      " |      Implement iter(self).\n",
      " |  \n",
      " |  __le__(self, value, /)\n",
      " |      Return self<=value.\n",
      " |  \n",
      " |  __len__(self, /)\n",
      " |      Return len(self).\n",
      " |  \n",
      " |  __lt__(self, value, /)\n",
      " |      Return self<value.\n",
      " |  \n",
      " |  __mod__(self, value, /)\n",
      " |      Return self%value.\n",
      " |  \n",
      " |  __mul__(self, value, /)\n",
      " |      Return self*value.\n",
      " |  \n",
      " |  __ne__(self, value, /)\n",
      " |      Return self!=value.\n",
      " |  \n",
      " |  __repr__(self, /)\n",
      " |      Return repr(self).\n",
      " |  \n",
      " |  __rmod__(self, value, /)\n",
      " |      Return value%self.\n",
      " |  \n",
      " |  __rmul__(self, value, /)\n",
      " |      Return value*self.\n",
      " |  \n",
      " |  __sizeof__(self, /)\n",
      " |      Return the size of the string in memory, in bytes.\n",
      " |  \n",
      " |  __str__(self, /)\n",
      " |      Return str(self).\n",
      " |  \n",
      " |  capitalize(self, /)\n",
      " |      Return a capitalized version of the string.\n",
      " |      \n",
      " |      More specifically, make the first character have upper case and the rest lower\n",
      " |      case.\n",
      " |  \n",
      " |  casefold(self, /)\n",
      " |      Return a version of the string suitable for caseless comparisons.\n",
      " |  \n",
      " |  center(self, width, fillchar=' ', /)\n",
      " |      Return a centered string of length width.\n",
      " |      \n",
      " |      Padding is done using the specified fill character (default is a space).\n",
      " |  \n",
      " |  count(...)\n",
      " |      S.count(sub[, start[, end]]) -> int\n",
      " |      \n",
      " |      Return the number of non-overlapping occurrences of substring sub in\n",
      " |      string S[start:end].  Optional arguments start and end are\n",
      " |      interpreted as in slice notation.\n",
      " |  \n",
      " |  encode(self, /, encoding='utf-8', errors='strict')\n",
      " |      Encode the string using the codec registered for encoding.\n",
      " |      \n",
      " |      encoding\n",
      " |        The encoding in which to encode the string.\n",
      " |      errors\n",
      " |        The error handling scheme to use for encoding errors.\n",
      " |        The default is 'strict' meaning that encoding errors raise a\n",
      " |        UnicodeEncodeError.  Other possible values are 'ignore', 'replace' and\n",
      " |        'xmlcharrefreplace' as well as any other name registered with\n",
      " |        codecs.register_error that can handle UnicodeEncodeErrors.\n",
      " |  \n",
      " |  endswith(...)\n",
      " |      S.endswith(suffix[, start[, end]]) -> bool\n",
      " |      \n",
      " |      Return True if S ends with the specified suffix, False otherwise.\n",
      " |      With optional start, test S beginning at that position.\n",
      " |      With optional end, stop comparing S at that position.\n",
      " |      suffix can also be a tuple of strings to try.\n",
      " |  \n",
      " |  expandtabs(self, /, tabsize=8)\n",
      " |      Return a copy where all tab characters are expanded using spaces.\n",
      " |      \n",
      " |      If tabsize is not given, a tab size of 8 characters is assumed.\n",
      " |  \n",
      " |  find(...)\n",
      " |      S.find(sub[, start[, end]]) -> int\n",
      " |      \n",
      " |      Return the lowest index in S where substring sub is found,\n",
      " |      such that sub is contained within S[start:end].  Optional\n",
      " |      arguments start and end are interpreted as in slice notation.\n",
      " |      \n",
      " |      Return -1 on failure.\n",
      " |  \n",
      " |  format(...)\n",
      " |      S.format(*args, **kwargs) -> str\n",
      " |      \n",
      " |      Return a formatted version of S, using substitutions from args and kwargs.\n",
      " |      The substitutions are identified by braces ('{' and '}').\n",
      " |  \n",
      " |  format_map(...)\n",
      " |      S.format_map(mapping) -> str\n",
      " |      \n",
      " |      Return a formatted version of S, using substitutions from mapping.\n",
      " |      The substitutions are identified by braces ('{' and '}').\n",
      " |  \n",
      " |  index(...)\n",
      " |      S.index(sub[, start[, end]]) -> int\n",
      " |      \n",
      " |      Return the lowest index in S where substring sub is found,\n",
      " |      such that sub is contained within S[start:end].  Optional\n",
      " |      arguments start and end are interpreted as in slice notation.\n",
      " |      \n",
      " |      Raises ValueError when the substring is not found.\n",
      " |  \n",
      " |  isalnum(self, /)\n",
      " |      Return True if the string is an alpha-numeric string, False otherwise.\n",
      " |      \n",
      " |      A string is alpha-numeric if all characters in the string are alpha-numeric and\n",
      " |      there is at least one character in the string.\n",
      " |  \n",
      " |  isalpha(self, /)\n",
      " |      Return True if the string is an alphabetic string, False otherwise.\n",
      " |      \n",
      " |      A string is alphabetic if all characters in the string are alphabetic and there\n",
      " |      is at least one character in the string.\n",
      " |  \n",
      " |  isascii(self, /)\n",
      " |      Return True if all characters in the string are ASCII, False otherwise.\n",
      " |      \n",
      " |      ASCII characters have code points in the range U+0000-U+007F.\n",
      " |      Empty string is ASCII too.\n",
      " |  \n",
      " |  isdecimal(self, /)\n",
      " |      Return True if the string is a decimal string, False otherwise.\n",
      " |      \n",
      " |      A string is a decimal string if all characters in the string are decimal and\n",
      " |      there is at least one character in the string.\n",
      " |  \n",
      " |  isdigit(self, /)\n",
      " |      Return True if the string is a digit string, False otherwise.\n",
      " |      \n",
      " |      A string is a digit string if all characters in the string are digits and there\n",
      " |      is at least one character in the string.\n",
      " |  \n",
      " |  isidentifier(self, /)\n",
      " |      Return True if the string is a valid Python identifier, False otherwise.\n",
      " |      \n",
      " |      Call keyword.iskeyword(s) to test whether string s is a reserved identifier,\n",
      " |      such as \"def\" or \"class\".\n",
      " |  \n",
      " |  islower(self, /)\n",
      " |      Return True if the string is a lowercase string, False otherwise.\n",
      " |      \n",
      " |      A string is lowercase if all cased characters in the string are lowercase and\n",
      " |      there is at least one cased character in the string.\n",
      " |  \n",
      " |  isnumeric(self, /)\n",
      " |      Return True if the string is a numeric string, False otherwise.\n",
      " |      \n",
      " |      A string is numeric if all characters in the string are numeric and there is at\n",
      " |      least one character in the string.\n",
      " |  \n",
      " |  isprintable(self, /)\n",
      " |      Return True if the string is printable, False otherwise.\n",
      " |      \n",
      " |      A string is printable if all of its characters are considered printable in\n",
      " |      repr() or if it is empty.\n",
      " |  \n",
      " |  isspace(self, /)\n",
      " |      Return True if the string is a whitespace string, False otherwise.\n",
      " |      \n",
      " |      A string is whitespace if all characters in the string are whitespace and there\n",
      " |      is at least one character in the string.\n",
      " |  \n",
      " |  istitle(self, /)\n",
      " |      Return True if the string is a title-cased string, False otherwise.\n",
      " |      \n",
      " |      In a title-cased string, upper- and title-case characters may only\n",
      " |      follow uncased characters and lowercase characters only cased ones.\n",
      " |  \n",
      " |  isupper(self, /)\n",
      " |      Return True if the string is an uppercase string, False otherwise.\n",
      " |      \n",
      " |      A string is uppercase if all cased characters in the string are uppercase and\n",
      " |      there is at least one cased character in the string.\n",
      " |  \n",
      " |  join(self, iterable, /)\n",
      " |      Concatenate any number of strings.\n",
      " |      \n",
      " |      The string whose method is called is inserted in between each given string.\n",
      " |      The result is returned as a new string.\n",
      " |      \n",
      " |      Example: '.'.join(['ab', 'pq', 'rs']) -> 'ab.pq.rs'\n",
      " |  \n",
      " |  ljust(self, width, fillchar=' ', /)\n",
      " |      Return a left-justified string of length width.\n",
      " |      \n",
      " |      Padding is done using the specified fill character (default is a space).\n",
      " |  \n",
      " |  lower(self, /)\n",
      " |      Return a copy of the string converted to lowercase.\n",
      " |  \n",
      " |  lstrip(self, chars=None, /)\n",
      " |      Return a copy of the string with leading whitespace removed.\n",
      " |      \n",
      " |      If chars is given and not None, remove characters in chars instead.\n",
      " |  \n",
      " |  partition(self, sep, /)\n",
      " |      Partition the string into three parts using the given separator.\n",
      " |      \n",
      " |      This will search for the separator in the string.  If the separator is found,\n",
      " |      returns a 3-tuple containing the part before the separator, the separator\n",
      " |      itself, and the part after it.\n",
      " |      \n",
      " |      If the separator is not found, returns a 3-tuple containing the original string\n",
      " |      and two empty strings.\n",
      " |  \n",
      " |  removeprefix(self, prefix, /)\n",
      " |      Return a str with the given prefix string removed if present.\n",
      " |      \n",
      " |      If the string starts with the prefix string, return string[len(prefix):].\n",
      " |      Otherwise, return a copy of the original string.\n",
      " |  \n",
      " |  removesuffix(self, suffix, /)\n",
      " |      Return a str with the given suffix string removed if present.\n",
      " |      \n",
      " |      If the string ends with the suffix string and that suffix is not empty,\n",
      " |      return string[:-len(suffix)]. Otherwise, return a copy of the original\n",
      " |      string.\n",
      " |  \n",
      " |  replace(self, old, new, count=-1, /)\n",
      " |      Return a copy with all occurrences of substring old replaced by new.\n",
      " |      \n",
      " |        count\n",
      " |          Maximum number of occurrences to replace.\n",
      " |          -1 (the default value) means replace all occurrences.\n",
      " |      \n",
      " |      If the optional argument count is given, only the first count occurrences are\n",
      " |      replaced.\n",
      " |  \n",
      " |  rfind(...)\n",
      " |      S.rfind(sub[, start[, end]]) -> int\n",
      " |      \n",
      " |      Return the highest index in S where substring sub is found,\n",
      " |      such that sub is contained within S[start:end].  Optional\n",
      " |      arguments start and end are interpreted as in slice notation.\n",
      " |      \n",
      " |      Return -1 on failure.\n",
      " |  \n",
      " |  rindex(...)\n",
      " |      S.rindex(sub[, start[, end]]) -> int\n",
      " |      \n",
      " |      Return the highest index in S where substring sub is found,\n",
      " |      such that sub is contained within S[start:end].  Optional\n",
      " |      arguments start and end are interpreted as in slice notation.\n",
      " |      \n",
      " |      Raises ValueError when the substring is not found.\n",
      " |  \n",
      " |  rjust(self, width, fillchar=' ', /)\n",
      " |      Return a right-justified string of length width.\n",
      " |      \n",
      " |      Padding is done using the specified fill character (default is a space).\n",
      " |  \n",
      " |  rpartition(self, sep, /)\n",
      " |      Partition the string into three parts using the given separator.\n",
      " |      \n",
      " |      This will search for the separator in the string, starting at the end. If\n",
      " |      the separator is found, returns a 3-tuple containing the part before the\n",
      " |      separator, the separator itself, and the part after it.\n",
      " |      \n",
      " |      If the separator is not found, returns a 3-tuple containing two empty strings\n",
      " |      and the original string.\n",
      " |  \n",
      " |  rsplit(self, /, sep=None, maxsplit=-1)\n",
      " |      Return a list of the substrings in the string, using sep as the separator string.\n",
      " |      \n",
      " |        sep\n",
      " |          The separator used to split the string.\n",
      " |      \n",
      " |          When set to None (the default value), will split on any whitespace\n",
      " |          character (including \\\\n \\\\r \\\\t \\\\f and spaces) and will discard\n",
      " |          empty strings from the result.\n",
      " |        maxsplit\n",
      " |          Maximum number of splits (starting from the left).\n",
      " |          -1 (the default value) means no limit.\n",
      " |      \n",
      " |      Splitting starts at the end of the string and works to the front.\n",
      " |  \n",
      " |  rstrip(self, chars=None, /)\n",
      " |      Return a copy of the string with trailing whitespace removed.\n",
      " |      \n",
      " |      If chars is given and not None, remove characters in chars instead.\n",
      " |  \n",
      " |  split(self, /, sep=None, maxsplit=-1)\n",
      " |      Return a list of the substrings in the string, using sep as the separator string.\n",
      " |      \n",
      " |        sep\n",
      " |          The separator used to split the string.\n",
      " |      \n",
      " |          When set to None (the default value), will split on any whitespace\n",
      " |          character (including \\\\n \\\\r \\\\t \\\\f and spaces) and will discard\n",
      " |          empty strings from the result.\n",
      " |        maxsplit\n",
      " |          Maximum number of splits (starting from the left).\n",
      " |          -1 (the default value) means no limit.\n",
      " |      \n",
      " |      Note, str.split() is mainly useful for data that has been intentionally\n",
      " |      delimited.  With natural text that includes punctuation, consider using\n",
      " |      the regular expression module.\n",
      " |  \n",
      " |  splitlines(self, /, keepends=False)\n",
      " |      Return a list of the lines in the string, breaking at line boundaries.\n",
      " |      \n",
      " |      Line breaks are not included in the resulting list unless keepends is given and\n",
      " |      true.\n",
      " |  \n",
      " |  startswith(...)\n",
      " |      S.startswith(prefix[, start[, end]]) -> bool\n",
      " |      \n",
      " |      Return True if S starts with the specified prefix, False otherwise.\n",
      " |      With optional start, test S beginning at that position.\n",
      " |      With optional end, stop comparing S at that position.\n",
      " |      prefix can also be a tuple of strings to try.\n",
      " |  \n",
      " |  strip(self, chars=None, /)\n",
      " |      Return a copy of the string with leading and trailing whitespace removed.\n",
      " |      \n",
      " |      If chars is given and not None, remove characters in chars instead.\n",
      " |  \n",
      " |  swapcase(self, /)\n",
      " |      Convert uppercase characters to lowercase and lowercase characters to uppercase.\n",
      " |  \n",
      " |  title(self, /)\n",
      " |      Return a version of the string where each word is titlecased.\n",
      " |      \n",
      " |      More specifically, words start with uppercased characters and all remaining\n",
      " |      cased characters have lower case.\n",
      " |  \n",
      " |  translate(self, table, /)\n",
      " |      Replace each character in the string using the given translation table.\n",
      " |      \n",
      " |        table\n",
      " |          Translation table, which must be a mapping of Unicode ordinals to\n",
      " |          Unicode ordinals, strings, or None.\n",
      " |      \n",
      " |      The table must implement lookup/indexing via __getitem__, for instance a\n",
      " |      dictionary or list.  If this operation raises LookupError, the character is\n",
      " |      left untouched.  Characters mapped to None are deleted.\n",
      " |  \n",
      " |  upper(self, /)\n",
      " |      Return a copy of the string converted to uppercase.\n",
      " |  \n",
      " |  zfill(self, width, /)\n",
      " |      Pad a numeric string with zeros on the left, to fill a field of the given width.\n",
      " |      \n",
      " |      The string is never truncated.\n",
      " |  \n",
      " |  ----------------------------------------------------------------------\n",
      " |  Static methods defined here:\n",
      " |  \n",
      " |  __new__(*args, **kwargs) from builtins.type\n",
      " |      Create and return a new object.  See help(type) for accurate signature.\n",
      " |  \n",
      " |  maketrans(...)\n",
      " |      Return a translation table usable for str.translate().\n",
      " |      \n",
      " |      If there is only one argument, it must be a dictionary mapping Unicode\n",
      " |      ordinals (integers) or characters to Unicode ordinals, strings or None.\n",
      " |      Character keys will be then converted to ordinals.\n",
      " |      If there are two arguments, they must be strings of equal length, and\n",
      " |      in the resulting dictionary, each character in x will be mapped to the\n",
      " |      character at the same position in y. If there is a third argument, it\n",
      " |      must be a string, whose characters will be mapped to None in the result.\n",
      "\n"
     ]
    }
   ],
   "source": [
    "help(str)"
   ]
  },
  {
   "cell_type": "markdown",
   "metadata": {},
   "source": [
    "#### Object-Oriented Programming"
   ]
  },
  {
   "cell_type": "markdown",
   "metadata": {},
   "source": [
    "Object-Oriented Programming (OOP) allows us to create programs so that that properties and behaviors are bundled into **objects**. OOP models real-world entities as software objects that have some data associated with them and can perform certain functions."
   ]
  },
  {
   "cell_type": "markdown",
   "metadata": {},
   "source": [
    "## Creating a Class (Initializing/Declaring)\n",
    "<p>When creating a class, function, or even a variable you are initializing that object. Initializing and Declaring occur at the same time in Python, whereas in lower level languages you have to declare an object before initializing it. This is the first step in the process of using a class.</p>"
   ]
  },
  {
   "cell_type": "code",
   "execution_count": null,
   "metadata": {},
   "outputs": [],
   "source": [
    "# snake_case\n",
    "# camelCase\n",
    "# PascalCase"
   ]
  },
  {
   "cell_type": "code",
   "execution_count": null,
   "metadata": {},
   "outputs": [
    {
     "name": "stdout",
     "output_type": "stream",
     "text": [
      "Help on class Student in module __main__:\n",
      "\n",
      "class Student(builtins.object)\n",
      " |  Data descriptors defined here:\n",
      " |  \n",
      " |  __dict__\n",
      " |      dictionary for instance variables (if defined)\n",
      " |  \n",
      " |  __weakref__\n",
      " |      list of weak references to the object (if defined)\n",
      "\n"
     ]
    }
   ],
   "source": [
    "# Syntax: class ClassName():   OR   class ClassName:    *always capitalize our class names! Pascal Case - pep8 guideline\n",
    "\n",
    "class Student():\n",
    "    pass\n",
    "\n",
    "help(Student)"
   ]
  },
  {
   "cell_type": "code",
   "execution_count": null,
   "metadata": {},
   "outputs": [
    {
     "name": "stdout",
     "output_type": "stream",
     "text": [
      "<class '__main__.Student'>\n"
     ]
    },
    {
     "data": {
      "text/plain": [
       "__main__.Student"
      ]
     },
     "execution_count": 11,
     "metadata": {},
     "output_type": "execute_result"
    }
   ],
   "source": [
    "print(Student)\n",
    "Student"
   ]
  },
  {
   "cell_type": "code",
   "execution_count": 12,
   "metadata": {},
   "outputs": [
    {
     "name": "stdout",
     "output_type": "stream",
     "text": [
      "Help on class Teacher in module __main__:\n",
      "\n",
      "class Teacher(builtins.object)\n",
      " |  Data descriptors defined here:\n",
      " |  \n",
      " |  __dict__\n",
      " |      dictionary for instance variables (if defined)\n",
      " |  \n",
      " |  __weakref__\n",
      " |      list of weak references to the object (if defined)\n",
      "\n"
     ]
    }
   ],
   "source": [
    "class Teacher:\n",
    "    pass\n",
    "\n",
    "help(Teacher)"
   ]
  },
  {
   "cell_type": "code",
   "execution_count": 13,
   "metadata": {},
   "outputs": [
    {
     "name": "stdout",
     "output_type": "stream",
     "text": [
      "<class '__main__.Teacher'>\n"
     ]
    },
    {
     "data": {
      "text/plain": [
       "__main__.Teacher"
      ]
     },
     "execution_count": 13,
     "metadata": {},
     "output_type": "execute_result"
    }
   ],
   "source": [
    "print(Teacher)\n",
    "Teacher"
   ]
  },
  {
   "cell_type": "markdown",
   "metadata": {},
   "source": [
    "## Using a Class (Instantiating)\n",
    "<p>The process of creating a class is called <i>Instantiating</i>. Each time you create a variable of that type of class, it is referred to as an <i>Instance</i> of that class. This is the second step in the process of using a class.</p>"
   ]
  },
  {
   "cell_type": "code",
   "execution_count": 14,
   "metadata": {},
   "outputs": [
    {
     "name": "stdout",
     "output_type": "stream",
     "text": [
      "Help on class list in module builtins:\n",
      "\n",
      "class list(object)\n",
      " |  list(iterable=(), /)\n",
      " |  \n",
      " |  Built-in mutable sequence.\n",
      " |  \n",
      " |  If no argument is given, the constructor creates a new empty list.\n",
      " |  The argument must be an iterable if specified.\n",
      " |  \n",
      " |  Methods defined here:\n",
      " |  \n",
      " |  __add__(self, value, /)\n",
      " |      Return self+value.\n",
      " |  \n",
      " |  __contains__(self, key, /)\n",
      " |      Return key in self.\n",
      " |  \n",
      " |  __delitem__(self, key, /)\n",
      " |      Delete self[key].\n",
      " |  \n",
      " |  __eq__(self, value, /)\n",
      " |      Return self==value.\n",
      " |  \n",
      " |  __ge__(self, value, /)\n",
      " |      Return self>=value.\n",
      " |  \n",
      " |  __getattribute__(self, name, /)\n",
      " |      Return getattr(self, name).\n",
      " |  \n",
      " |  __getitem__(...)\n",
      " |      x.__getitem__(y) <==> x[y]\n",
      " |  \n",
      " |  __gt__(self, value, /)\n",
      " |      Return self>value.\n",
      " |  \n",
      " |  __iadd__(self, value, /)\n",
      " |      Implement self+=value.\n",
      " |  \n",
      " |  __imul__(self, value, /)\n",
      " |      Implement self*=value.\n",
      " |  \n",
      " |  __init__(self, /, *args, **kwargs)\n",
      " |      Initialize self.  See help(type(self)) for accurate signature.\n",
      " |  \n",
      " |  __iter__(self, /)\n",
      " |      Implement iter(self).\n",
      " |  \n",
      " |  __le__(self, value, /)\n",
      " |      Return self<=value.\n",
      " |  \n",
      " |  __len__(self, /)\n",
      " |      Return len(self).\n",
      " |  \n",
      " |  __lt__(self, value, /)\n",
      " |      Return self<value.\n",
      " |  \n",
      " |  __mul__(self, value, /)\n",
      " |      Return self*value.\n",
      " |  \n",
      " |  __ne__(self, value, /)\n",
      " |      Return self!=value.\n",
      " |  \n",
      " |  __repr__(self, /)\n",
      " |      Return repr(self).\n",
      " |  \n",
      " |  __reversed__(self, /)\n",
      " |      Return a reverse iterator over the list.\n",
      " |  \n",
      " |  __rmul__(self, value, /)\n",
      " |      Return value*self.\n",
      " |  \n",
      " |  __setitem__(self, key, value, /)\n",
      " |      Set self[key] to value.\n",
      " |  \n",
      " |  __sizeof__(self, /)\n",
      " |      Return the size of the list in memory, in bytes.\n",
      " |  \n",
      " |  append(self, object, /)\n",
      " |      Append object to the end of the list.\n",
      " |  \n",
      " |  clear(self, /)\n",
      " |      Remove all items from list.\n",
      " |  \n",
      " |  copy(self, /)\n",
      " |      Return a shallow copy of the list.\n",
      " |  \n",
      " |  count(self, value, /)\n",
      " |      Return number of occurrences of value.\n",
      " |  \n",
      " |  extend(self, iterable, /)\n",
      " |      Extend list by appending elements from the iterable.\n",
      " |  \n",
      " |  index(self, value, start=0, stop=9223372036854775807, /)\n",
      " |      Return first index of value.\n",
      " |      \n",
      " |      Raises ValueError if the value is not present.\n",
      " |  \n",
      " |  insert(self, index, object, /)\n",
      " |      Insert object before index.\n",
      " |  \n",
      " |  pop(self, index=-1, /)\n",
      " |      Remove and return item at index (default last).\n",
      " |      \n",
      " |      Raises IndexError if list is empty or index is out of range.\n",
      " |  \n",
      " |  remove(self, value, /)\n",
      " |      Remove first occurrence of value.\n",
      " |      \n",
      " |      Raises ValueError if the value is not present.\n",
      " |  \n",
      " |  reverse(self, /)\n",
      " |      Reverse *IN PLACE*.\n",
      " |  \n",
      " |  sort(self, /, *, key=None, reverse=False)\n",
      " |      Sort the list in ascending order and return None.\n",
      " |      \n",
      " |      The sort is in-place (i.e. the list itself is modified) and stable (i.e. the\n",
      " |      order of two equal elements is maintained).\n",
      " |      \n",
      " |      If a key function is given, apply it once to each list item and sort them,\n",
      " |      ascending or descending, according to their function values.\n",
      " |      \n",
      " |      The reverse flag can be set to sort in descending order.\n",
      " |  \n",
      " |  ----------------------------------------------------------------------\n",
      " |  Class methods defined here:\n",
      " |  \n",
      " |  __class_getitem__(...) from builtins.type\n",
      " |      See PEP 585\n",
      " |  \n",
      " |  ----------------------------------------------------------------------\n",
      " |  Static methods defined here:\n",
      " |  \n",
      " |  __new__(*args, **kwargs) from builtins.type\n",
      " |      Create and return a new object.  See help(type) for accurate signature.\n",
      " |  \n",
      " |  ----------------------------------------------------------------------\n",
      " |  Data and other attributes defined here:\n",
      " |  \n",
      " |  __hash__ = None\n",
      "\n"
     ]
    }
   ],
   "source": [
    "help(list)"
   ]
  },
  {
   "cell_type": "code",
   "execution_count": 1,
   "metadata": {},
   "outputs": [
    {
     "name": "stdout",
     "output_type": "stream",
     "text": [
      "1605723385152 <class 'list'> True\n",
      "1605723386176 <class 'list'> True\n"
     ]
    }
   ],
   "source": [
    "# Create 2 instances of the list class\n",
    "\n",
    "a_list = [1, 2, 3, 4]\n",
    "b_list = [5, 6, 7, 8]\n",
    "\n",
    "print(id(a_list), type(a_list), isinstance(a_list, list))\n",
    "print(id(b_list), type(b_list), isinstance(b_list, list))"
   ]
  },
  {
   "cell_type": "code",
   "execution_count": 2,
   "metadata": {},
   "outputs": [
    {
     "name": "stdout",
     "output_type": "stream",
     "text": [
      "[1, 2, 3, 4, 1000]\n",
      "[5, 6, 7, 8]\n"
     ]
    }
   ],
   "source": [
    "a_list.append(1000)\n",
    "\n",
    "print(a_list)\n",
    "print(b_list)"
   ]
  },
  {
   "cell_type": "markdown",
   "metadata": {},
   "source": [
    "##### Creating One Instance"
   ]
  },
  {
   "cell_type": "code",
   "execution_count": 3,
   "metadata": {},
   "outputs": [
    {
     "name": "stdout",
     "output_type": "stream",
     "text": [
      "[] <class 'list'>\n"
     ]
    }
   ],
   "source": [
    "list_c = list()\n",
    "print(list_c, type(list_c))"
   ]
  },
  {
   "cell_type": "code",
   "execution_count": 18,
   "metadata": {},
   "outputs": [
    {
     "name": "stdout",
     "output_type": "stream",
     "text": [
      "<__main__.Student object at 0x000002D1086C2BF0>\n",
      "<class '__main__.Student'>\n",
      "True\n"
     ]
    }
   ],
   "source": [
    "# Syntax: instance_var_name = ClassName()\n",
    "\n",
    "student1 = Student() # student1 is equal to an instance of Student (1 version of a student)\n",
    "\n",
    "print(student1)\n",
    "print(type(student1))\n",
    "print(isinstance(student1, Student))"
   ]
  },
  {
   "cell_type": "markdown",
   "metadata": {},
   "source": [
    "##### Creating Multiple Instances"
   ]
  },
  {
   "cell_type": "code",
   "execution_count": 19,
   "metadata": {},
   "outputs": [
    {
     "name": "stdout",
     "output_type": "stream",
     "text": [
      "<__main__.Student object at 0x000002D1085EDF30>\n",
      "<__main__.Student object at 0x000002D1087015A0>\n"
     ]
    }
   ],
   "source": [
    "student2 = Student()\n",
    "print(student2)\n",
    "\n",
    "student3 = Student()\n",
    "print(student3)"
   ]
  },
  {
   "cell_type": "markdown",
   "metadata": {},
   "source": [
    "##### Adding attributes to instances"
   ]
  },
  {
   "cell_type": "code",
   "execution_count": 20,
   "metadata": {},
   "outputs": [
    {
     "name": "stdout",
     "output_type": "stream",
     "text": [
      "Student 1: {'first_name': 'John', 'last_name': 'Smith'}\n",
      "Student 2: {'first_name': 'Laura', 'last_name': 'Green'}\n"
     ]
    }
   ],
   "source": [
    "# Syntax: instance_var.attribute_name = value\n",
    "\n",
    "student1.first_name = 'John'\n",
    "student1.last_name = 'Smith'\n",
    "\n",
    "student2.first_name = 'Laura'\n",
    "student2.last_name = 'Green'\n",
    "\n",
    "print('Student 1:', student1.__dict__)\n",
    "print('Student 2:', student2.__dict__)"
   ]
  },
  {
   "cell_type": "markdown",
   "metadata": {},
   "source": [
    "##### Accessing attributes of instances"
   ]
  },
  {
   "cell_type": "code",
   "execution_count": 24,
   "metadata": {},
   "outputs": [
    {
     "name": "stdout",
     "output_type": "stream",
     "text": [
      "John\n",
      "Smith\n",
      "Laura\n",
      "Green\n"
     ]
    }
   ],
   "source": [
    "# Syntax: instance_var.attribute_name\n",
    "\n",
    "print(student1.first_name)\n",
    "print(student1.last_name)\n",
    "\n",
    "print(student2.first_name)\n",
    "print(student2.last_name)"
   ]
  },
  {
   "cell_type": "code",
   "execution_count": 25,
   "metadata": {},
   "outputs": [
    {
     "ename": "AttributeError",
     "evalue": "'Student' object has no attribute 'middle_name'",
     "output_type": "error",
     "traceback": [
      "\u001b[1;31m---------------------------------------------------------------------------\u001b[0m",
      "\u001b[1;31mAttributeError\u001b[0m                            Traceback (most recent call last)",
      "Cell \u001b[1;32mIn[25], line 1\u001b[0m\n\u001b[1;32m----> 1\u001b[0m \u001b[38;5;28mprint\u001b[39m(\u001b[43mstudent1\u001b[49m\u001b[38;5;241;43m.\u001b[39;49m\u001b[43mmiddle_name\u001b[49m)\n",
      "\u001b[1;31mAttributeError\u001b[0m: 'Student' object has no attribute 'middle_name'"
     ]
    }
   ],
   "source": [
    "print(student1.middle_name)"
   ]
  },
  {
   "cell_type": "code",
   "execution_count": 26,
   "metadata": {},
   "outputs": [
    {
     "name": "stdout",
     "output_type": "stream",
     "text": [
      "Help on built-in function setattr in module builtins:\n",
      "\n",
      "setattr(obj, name, value, /)\n",
      "    Sets the named attribute on the given object to the specified value.\n",
      "    \n",
      "    setattr(x, 'y', v) is equivalent to ``x.y = v''\n",
      "\n"
     ]
    }
   ],
   "source": [
    "# setattr and getattr built in functions\n",
    "help(setattr)"
   ]
  },
  {
   "cell_type": "code",
   "execution_count": 28,
   "metadata": {},
   "outputs": [
    {
     "name": "stdout",
     "output_type": "stream",
     "text": [
      "{'first_name': 'John', 'last_name': 'Smith', 'middle_name': 'Elizabeth'}\n",
      "Elizabeth\n"
     ]
    }
   ],
   "source": [
    "setattr(student1, 'middle_name', 'Elizabeth')\n",
    "print(student1.__dict__)\n",
    "print(student1.middle_name)"
   ]
  },
  {
   "cell_type": "code",
   "execution_count": 29,
   "metadata": {
    "scrolled": true
   },
   "outputs": [
    {
     "name": "stdout",
     "output_type": "stream",
     "text": [
      "Help on built-in function getattr in module builtins:\n",
      "\n",
      "getattr(...)\n",
      "    getattr(object, name[, default]) -> value\n",
      "    \n",
      "    Get a named attribute from an object; getattr(x, 'y') is equivalent to x.y.\n",
      "    When a default argument is given, it is returned when the attribute doesn't\n",
      "    exist; without it, an exception is raised in that case.\n",
      "\n"
     ]
    }
   ],
   "source": [
    "help(getattr)"
   ]
  },
  {
   "cell_type": "code",
   "execution_count": 33,
   "metadata": {},
   "outputs": [
    {
     "name": "stdout",
     "output_type": "stream",
     "text": [
      "No Middle Name\n"
     ]
    }
   ],
   "source": [
    "print(getattr(student2, 'middle_name', 'No Middle Name'))"
   ]
  },
  {
   "cell_type": "markdown",
   "metadata": {},
   "source": [
    "##### In-Class Exercise #1 - Create a Class 'Car' and Instantiate three different car instances. Add a different make for each car."
   ]
  },
  {
   "cell_type": "code",
   "execution_count": 41,
   "metadata": {},
   "outputs": [
    {
     "name": "stdout",
     "output_type": "stream",
     "text": [
      "Ford\n",
      "GM\n",
      "Chevrolet\n"
     ]
    }
   ],
   "source": [
    "# Create the Car Class\n",
    "\n",
    "\n",
    "\n",
    "# Create 3 instances\n",
    "\n",
    "\n",
    "# Set the make attribute for each\n",
    "\n",
    "\n",
    "# Add car instances to a list\n",
    "\n",
    "\n",
    "# Loop over the list\n",
    "\n",
    "    # Print each Car instance's make\n",
    "\n",
    "class Car:\n",
    "    pass\n",
    "\n",
    "car1 = Car()\n",
    "car2 = Car()\n",
    "car3 = Car()\n",
    "\n",
    "setattr(car1, 'make', 'toyota')\n",
    "setattr(car2, 'make', 'toyota')\n",
    "setattr(car3, 'make', 'toyota')  \n",
    "\n",
    "carList = [car1, car2, car3]\n",
    "\n",
    "for car in carList:\n",
    "    print(car.make) \n"
   ]
  },
  {
   "cell_type": "markdown",
   "metadata": {},
   "source": [
    "## The \\__init\\__() Method <br>\n",
    "<p>This method is used in almost every created class, and called only once upon the creation of the class instance. This method will initialize all variables needed for the object.</p>"
   ]
  },
  {
   "cell_type": "code",
   "execution_count": 4,
   "metadata": {},
   "outputs": [],
   "source": [
    "class Car:\n",
    "    pass\n",
    "\n",
    "def create_car(make):\n",
    "    car_instance = Car()\n",
    "    car_instance.make = make\n",
    "    return car_instance"
   ]
  },
  {
   "cell_type": "code",
   "execution_count": 6,
   "metadata": {},
   "outputs": [
    {
     "name": "stdout",
     "output_type": "stream",
     "text": [
      "<__main__.Car object at 0x00000175DC8B4500>\n"
     ]
    },
    {
     "data": {
      "text/plain": [
       "<__main__.Car at 0x175dc8b4500>"
      ]
     },
     "execution_count": 6,
     "metadata": {},
     "output_type": "execute_result"
    }
   ],
   "source": [
    "c1 = create_car('Toyota')\n",
    "print(c1)\n",
    "c1"
   ]
  },
  {
   "cell_type": "code",
   "execution_count": 7,
   "metadata": {},
   "outputs": [
    {
     "name": "stdout",
     "output_type": "stream",
     "text": [
      "Toyota\n"
     ]
    }
   ],
   "source": [
    "print(c1.make)"
   ]
  },
  {
   "cell_type": "code",
   "execution_count": 8,
   "metadata": {},
   "outputs": [
    {
     "name": "stdout",
     "output_type": "stream",
     "text": [
      "<__main__.Car object at 0x00000175DC8B4D40>\n",
      "Honda\n"
     ]
    }
   ],
   "source": [
    "c2 = create_car('Honda')\n",
    "print(c2)\n",
    "print(c2.make)"
   ]
  },
  {
   "cell_type": "markdown",
   "metadata": {},
   "source": [
    "##### The 'self' Attribute <br>\n",
    "<p>This attribute is required to keep track of specific instance's attributes. Without the self attribute, the program would not know how to reference or keep track of an instance's attributes.</p>"
   ]
  },
  {
   "cell_type": "code",
   "execution_count": 5,
   "metadata": {},
   "outputs": [
    {
     "name": "stdout",
     "output_type": "stream",
     "text": [
      "Help on method_descriptor:\n",
      "\n",
      "upper(self, /)\n",
      "    Return a copy of the string converted to uppercase.\n",
      "\n"
     ]
    }
   ],
   "source": [
    "help(str.upper)"
   ]
  },
  {
   "cell_type": "code",
   "execution_count": 9,
   "metadata": {},
   "outputs": [
    {
     "name": "stdout",
     "output_type": "stream",
     "text": [
      "BRIAN Stanton\n"
     ]
    }
   ],
   "source": [
    "name1 = 'Brian'\n",
    "name2 = 'Stanton'\n",
    "\n",
    "print(name1.upper(), name2)"
   ]
  },
  {
   "cell_type": "code",
   "execution_count": 10,
   "metadata": {},
   "outputs": [
    {
     "data": {
      "text/plain": [
       "True"
      ]
     },
     "execution_count": 10,
     "metadata": {},
     "output_type": "execute_result"
    }
   ],
   "source": [
    "str.upper(name1) == name1.upper()"
   ]
  },
  {
   "cell_type": "code",
   "execution_count": 11,
   "metadata": {},
   "outputs": [
    {
     "name": "stdout",
     "output_type": "stream",
     "text": [
      "Mickey Mouse\n",
      "<__main__.Student object at 0x00000175DC8B6300>\n"
     ]
    }
   ],
   "source": [
    "class Student():\n",
    "    pass\n",
    "\n",
    "\n",
    "def create_student_like_init(self, first, last):\n",
    "    self.first_name = first\n",
    "    self.last_name = last\n",
    "    return self\n",
    "\n",
    "s1 = create_student_like_init(Student(), 'Mickey', 'Mouse')\n",
    "print(s1.first_name, s1.last_name)\n",
    "print(s1)"
   ]
  },
  {
   "cell_type": "code",
   "execution_count": 14,
   "metadata": {},
   "outputs": [
    {
     "name": "stdout",
     "output_type": "stream",
     "text": [
      "Hello this function is being executed because we are creating a new Student instance for you!\n",
      "Self: <__main__.Student object at 0x000001BEF3418D00>\n",
      "<__main__.Student object at 0x000001BEF3418D00>\n",
      "Donald Duck\n"
     ]
    }
   ],
   "source": [
    "class Student():\n",
    "    def __init__(self, first, last):\n",
    "        print('Hello this function is being executed because we are creating a new Student instance for you!')\n",
    "        print('Self:', self)\n",
    "        self.first_name = first\n",
    "        self.last_name = last\n",
    "        \n",
    "        \n",
    "# Syntax for creating an instance:\n",
    "# instance_var = ClassName(arg1, arg2, etc)\n",
    "s2 = Student('Donald', 'Duck')\n",
    "print(s2)\n",
    "print(s2.first_name, s2.last_name)"
   ]
  },
  {
   "cell_type": "code",
   "execution_count": 16,
   "metadata": {},
   "outputs": [
    {
     "name": "stdout",
     "output_type": "stream",
     "text": [
      "Hello this function is being executed because we are creating a new Student instance for you!\n",
      "Self: <__main__.Student object at 0x000001BEF3434D30>\n",
      "Bugs Bunny\n",
      "<__main__.Student object at 0x000001BEF3434D30>\n"
     ]
    }
   ],
   "source": [
    "s3 = Student('Bugs', 'Bunny')\n",
    "print(s3.first_name, s3.last_name)\n",
    "print(s3)"
   ]
  },
  {
   "cell_type": "code",
   "execution_count": 24,
   "metadata": {},
   "outputs": [
    {
     "name": "stdout",
     "output_type": "stream",
     "text": [
      "Daffy\n",
      "daffy.duck@teacher.edu\n",
      "michael.jordan@teacher.edu\n"
     ]
    }
   ],
   "source": [
    "class Teacher:\n",
    "    # The __init__ method is called under the hood every time we create a new instance of a class\n",
    "    def __init__(self, f, l):\n",
    "        self.first_name = f\n",
    "        self.last_name = l\n",
    "        self.email = f.lower() + '.' + l.lower() + '@teacher.edu'\n",
    "        \n",
    "    def grade(self):\n",
    "        print(f\"{self.first_name} {self.last_name} is grading homework\")\n",
    "\n",
    "t = Teacher('Daffy', 'Duck')\n",
    "print(t.first_name)\n",
    "print(t.email)\n",
    "t2 = Teacher('Michael', 'Jordan')\n",
    "print(t2.email)"
   ]
  },
  {
   "cell_type": "code",
   "execution_count": 25,
   "metadata": {},
   "outputs": [
    {
     "name": "stdout",
     "output_type": "stream",
     "text": [
      "Daffy Duck is grading homework\n",
      "Michael Jordan is grading homework\n"
     ]
    }
   ],
   "source": [
    "t.grade()\n",
    "t2.grade()"
   ]
  },
  {
   "cell_type": "code",
   "execution_count": 28,
   "metadata": {},
   "outputs": [
    {
     "name": "stdout",
     "output_type": "stream",
     "text": [
      "Michael Jordan is grading homework\n"
     ]
    }
   ],
   "source": [
    "Teacher.grade(t2)"
   ]
  },
  {
   "cell_type": "code",
   "execution_count": 32,
   "metadata": {},
   "outputs": [
    {
     "name": "stdout",
     "output_type": "stream",
     "text": [
      "The newly created instance: <__main__.Example object at 0x000001BEF3986650>\n",
      "Instance e: <__main__.Example object at 0x000001BEF3986650>\n"
     ]
    }
   ],
   "source": [
    "class Example:\n",
    "    def __init__(self):\n",
    "        print('The newly created instance:', self)\n",
    "    \n",
    "    \n",
    "e = Example()\n",
    "print('Instance e:', e)"
   ]
  },
  {
   "cell_type": "markdown",
   "metadata": {},
   "source": [
    "## Class Attributes <br>\n",
    "<p>While variables are inside of a class, they are referred to as attributes and not variables. When someone says 'attribute' you know they're speaking about a class. Attributes can be initialized through the init method, or outside of it.</p>"
   ]
  },
  {
   "cell_type": "markdown",
   "metadata": {},
   "source": [
    "##### Initializing Attributes"
   ]
  },
  {
   "cell_type": "code",
   "execution_count": 33,
   "metadata": {},
   "outputs": [],
   "source": [
    "class Truck:\n",
    "    wheels = 4 # Class Attribute\n",
    "    \n",
    "    def __init__(self, color, make):\n",
    "        self.color = color # Instance Attribute\n",
    "        self.make = make # Instance Attribute\n",
    "        \n",
    "truck1 = Truck('green', 'Ford')\n",
    "truck2 = Truck('blue', 'Chevrolet')"
   ]
  },
  {
   "cell_type": "code",
   "execution_count": 35,
   "metadata": {},
   "outputs": [
    {
     "name": "stdout",
     "output_type": "stream",
     "text": [
      "{'color': 'green', 'make': 'Ford'}\n",
      "{'color': 'blue', 'make': 'Chevrolet'}\n"
     ]
    }
   ],
   "source": [
    "print(truck1.__dict__)\n",
    "print(truck2.__dict__)"
   ]
  },
  {
   "cell_type": "code",
   "execution_count": 38,
   "metadata": {},
   "outputs": [
    {
     "name": "stdout",
     "output_type": "stream",
     "text": [
      "green\n",
      "Ford\n",
      "4\n"
     ]
    }
   ],
   "source": [
    "print(truck1.color)\n",
    "print(truck1.make)\n",
    "print(truck1.wheels)"
   ]
  },
  {
   "cell_type": "code",
   "execution_count": 39,
   "metadata": {},
   "outputs": [
    {
     "name": "stdout",
     "output_type": "stream",
     "text": [
      "{'__module__': '__main__', 'wheels': 4, '__init__': <function Truck.__init__ at 0x000001BEF548C280>, '__dict__': <attribute '__dict__' of 'Truck' objects>, '__weakref__': <attribute '__weakref__' of 'Truck' objects>, '__doc__': None}\n"
     ]
    }
   ],
   "source": [
    "print(Truck.__dict__)"
   ]
  },
  {
   "cell_type": "markdown",
   "metadata": {},
   "source": [
    "##### Accessing Class Attributes"
   ]
  },
  {
   "cell_type": "code",
   "execution_count": 40,
   "metadata": {
    "scrolled": true
   },
   "outputs": [
    {
     "name": "stdout",
     "output_type": "stream",
     "text": [
      "green\n",
      "Ford\n",
      "4\n"
     ]
    }
   ],
   "source": [
    "# You can access instance and class attributes from an instance of class, \n",
    "# but can only access class attributes from the class\n",
    "\n",
    "print(truck1.color) # Accessing instance attribute # OK\n",
    "print(truck1.make) # Accessing instance attribute # OK\n",
    "print(truck1.wheels) # Accessing class attribute # OK"
   ]
  },
  {
   "cell_type": "code",
   "execution_count": 44,
   "metadata": {},
   "outputs": [
    {
     "name": "stdout",
     "output_type": "stream",
     "text": [
      "4\n"
     ]
    }
   ],
   "source": [
    "print(Truck.wheels) # Accessing class attribute # OK\n",
    "# print(Truck.color) # Accessing instance attribute # NOT OK\n",
    "# print(Truck.make) # Accessing instance attribute # NOT OK\n"
   ]
  },
  {
   "cell_type": "markdown",
   "metadata": {},
   "source": [
    "##### Setting Defaults for Attributes"
   ]
  },
  {
   "cell_type": "code",
   "execution_count": 47,
   "metadata": {},
   "outputs": [
    {
     "name": "stdout",
     "output_type": "stream",
     "text": [
      "red Schwinn\n",
      "blue Giant\n"
     ]
    }
   ],
   "source": [
    "class Bike:\n",
    "    def __init__(self, color, brand='Schwinn'):\n",
    "        self.color = color\n",
    "        self.brand = brand\n",
    "        \n",
    "my_bike = Bike('red')\n",
    "print(my_bike.color, my_bike.brand)\n",
    "\n",
    "your_bike = Bike('blue', 'Giant')\n",
    "print(your_bike.color, your_bike.brand)"
   ]
  },
  {
   "cell_type": "markdown",
   "metadata": {},
   "source": [
    "##### Changing Class Attributes <br>\n",
    "<p>Keep in mind there are global class attributes and then there are attributes only available to each class instance which won't effect other classes.</p>"
   ]
  },
  {
   "cell_type": "code",
   "execution_count": 48,
   "metadata": {},
   "outputs": [],
   "source": [
    "class Truck:\n",
    "    wheels = 4 # Class Attribute\n",
    "    \n",
    "    def __init__(self, color, make):\n",
    "        self.color = color # Instance Attribute\n",
    "        self.make = make # Instance Attribute"
   ]
  },
  {
   "cell_type": "code",
   "execution_count": 49,
   "metadata": {},
   "outputs": [],
   "source": [
    "truck1 = Truck('green', 'Ford')\n",
    "truck2 = Truck('red', 'Toyota')"
   ]
  },
  {
   "cell_type": "code",
   "execution_count": 53,
   "metadata": {},
   "outputs": [
    {
     "name": "stdout",
     "output_type": "stream",
     "text": [
      "4\n",
      "4\n",
      "==================================================\n",
      "{'color': 'green', 'make': 'Ford'}\n",
      "{'color': 'red', 'make': 'Toyota'}\n",
      "==================================================\n",
      "{'__module__': '__main__', 'wheels': 4, '__init__': <function Truck.__init__ at 0x000001BEF5383010>, '__dict__': <attribute '__dict__' of 'Truck' objects>, '__weakref__': <attribute '__weakref__' of 'Truck' objects>, '__doc__': None}\n"
     ]
    }
   ],
   "source": [
    "print(truck1.wheels)\n",
    "print(truck2.wheels)\n",
    "print('='*50)\n",
    "print(truck1.__dict__)\n",
    "print(truck2.__dict__)\n",
    "print('='*50)\n",
    "print(Truck.__dict__)"
   ]
  },
  {
   "cell_type": "code",
   "execution_count": 54,
   "metadata": {},
   "outputs": [
    {
     "name": "stdout",
     "output_type": "stream",
     "text": [
      "16\n",
      "4\n",
      "==================================================\n",
      "{'color': 'green', 'make': 'Ford', 'wheels': 16}\n",
      "{'color': 'red', 'make': 'Toyota'}\n",
      "==================================================\n",
      "{'__module__': '__main__', 'wheels': 4, '__init__': <function Truck.__init__ at 0x000001BEF5383010>, '__dict__': <attribute '__dict__' of 'Truck' objects>, '__weakref__': <attribute '__weakref__' of 'Truck' objects>, '__doc__': None}\n"
     ]
    }
   ],
   "source": [
    "truck1.wheels = 16 # Set an Instance Attribute on truck1 (an instance of Truck)\n",
    "print(truck1.wheels)\n",
    "print(truck2.wheels)\n",
    "print('='*50)\n",
    "print(truck1.__dict__)\n",
    "print(truck2.__dict__)\n",
    "print('='*50)\n",
    "print(Truck.__dict__)"
   ]
  },
  {
   "cell_type": "code",
   "execution_count": 56,
   "metadata": {},
   "outputs": [
    {
     "name": "stdout",
     "output_type": "stream",
     "text": [
      "16\n",
      "24\n",
      "==================================================\n",
      "{'color': 'green', 'make': 'Ford', 'wheels': 16}\n",
      "{'color': 'red', 'make': 'Toyota'}\n",
      "==================================================\n",
      "{'__module__': '__main__', 'wheels': 24, '__init__': <function Truck.__init__ at 0x000001BEF5383010>, '__dict__': <attribute '__dict__' of 'Truck' objects>, '__weakref__': <attribute '__weakref__' of 'Truck' objects>, '__doc__': None}\n"
     ]
    }
   ],
   "source": [
    "Truck.wheels = 24 # Set a Class Attribute on Truck class\n",
    "print(truck1.wheels)\n",
    "print(truck2.wheels)\n",
    "print('='*50)\n",
    "print(truck1.__dict__)\n",
    "print(truck2.__dict__)\n",
    "print('='*50)\n",
    "print(Truck.__dict__)"
   ]
  },
  {
   "cell_type": "code",
   "execution_count": 57,
   "metadata": {},
   "outputs": [],
   "source": [
    "class Truck:\n",
    "    all_trucks = []\n",
    "    id_counter = 1\n",
    "    \n",
    "    def __init__(self, color):\n",
    "        self.color = color\n",
    "        self.id = Truck.id_counter\n",
    "        Truck.id_counter += 1\n",
    "        Truck.all_trucks.append(self)\n",
    "        \n",
    "truck1 = Truck('blue')\n",
    "truck2 = Truck('green')\n",
    "truck3 = Truck('red')"
   ]
  },
  {
   "cell_type": "code",
   "execution_count": 58,
   "metadata": {},
   "outputs": [
    {
     "name": "stdout",
     "output_type": "stream",
     "text": [
      "[<__main__.Truck object at 0x000001BEF4B48D30>, <__main__.Truck object at 0x000001BEF341A290>, <__main__.Truck object at 0x000001BEF34E1600>]\n"
     ]
    }
   ],
   "source": [
    "print(Truck.all_trucks)"
   ]
  },
  {
   "cell_type": "code",
   "execution_count": 61,
   "metadata": {},
   "outputs": [
    {
     "name": "stdout",
     "output_type": "stream",
     "text": [
      "1\n",
      "2\n",
      "3\n",
      "4\n"
     ]
    }
   ],
   "source": [
    "print(truck1.id)\n",
    "print(truck2.id)\n",
    "print(truck3.id)\n",
    "print(Truck.id_counter)"
   ]
  },
  {
   "cell_type": "markdown",
   "metadata": {},
   "source": [
    "##### In-Class Exercise 2 - Create an \\__init__ method for your Car class which takes in color and model with a default value for gas_level of 100. Your class should also have a class attribute for make. Once you have created the class, instantiate 3 different cars"
   ]
  },
  {
   "cell_type": "code",
   "execution_count": 37,
   "metadata": {},
   "outputs": [
    {
     "name": "stdout",
     "output_type": "stream",
     "text": [
      "The blue F150 has a gas level of 100.\n",
      "The Green Mustang has a gas level of 100.\n",
      "The blue Camry has a gas level of 75.\n"
     ]
    }
   ],
   "source": [
    "# Car class\n",
    " # Class Attribute - make\n",
    " # Instance Attributes - color, model, gas_level\n",
    "\n",
    "\n",
    "class Truck:\n",
    "    all_trucks = []\n",
    "    id_counter = 1\n",
    "    \n",
    "    def __init__(self, color, model, gas_level = 100):\n",
    "        self.color = color\n",
    "        self.model = model\n",
    "        self.gas_level = gas_level\n",
    "        self.id = Truck.id_counter\n",
    "        Truck.id_counter += 1\n",
    "        Truck.all_trucks.append(self)\n",
    "      \n",
    "truck1 = Truck('blue', 'F150')\n",
    "truck2 = Truck('Green', 'Mustang')\n",
    "truck3 = Truck('blue', 'Camry', 75)\n",
    "\n",
    "trucks = [truck1, truck2, truck3]\n",
    "for t in trucks:\n",
    "    print( f\"The {t.color} {t.model} has a gas level of {t.gas_level}.\")\n",
    "\n",
    "\n"
   ]
  },
  {
   "cell_type": "markdown",
   "metadata": {},
   "source": [
    "## Class Methods <br>\n",
    "<p>While inside of a class, functions are referred to as 'methods'. If you hear someone mention methods, they're speaking about classes. Methods are essentially functions, but only callable on the instances of a class.</p>"
   ]
  },
  {
   "cell_type": "code",
   "execution_count": 64,
   "metadata": {},
   "outputs": [
    {
     "name": "stdout",
     "output_type": "stream",
     "text": [
      "Help on method_descriptor:\n",
      "\n",
      "append(self, object, /)\n",
      "    Append object to the end of the list.\n",
      "\n"
     ]
    }
   ],
   "source": [
    "help(list.append)"
   ]
  },
  {
   "cell_type": "code",
   "execution_count": 65,
   "metadata": {},
   "outputs": [
    {
     "name": "stdout",
     "output_type": "stream",
     "text": [
      "[1, 2, 3, 'Hello']\n"
     ]
    }
   ],
   "source": [
    "list_123 = [1, 2, 3]\n",
    "list_123.append('Hello')\n",
    "print(list_123)"
   ]
  },
  {
   "cell_type": "code",
   "execution_count": 66,
   "metadata": {},
   "outputs": [
    {
     "ename": "NameError",
     "evalue": "name 'append' is not defined",
     "output_type": "error",
     "traceback": [
      "\u001b[1;31m---------------------------------------------------------------------------\u001b[0m",
      "\u001b[1;31mNameError\u001b[0m                                 Traceback (most recent call last)",
      "Cell \u001b[1;32mIn[66], line 1\u001b[0m\n\u001b[1;32m----> 1\u001b[0m \u001b[43mappend\u001b[49m(\u001b[38;5;124m'\u001b[39m\u001b[38;5;124mGoodbye\u001b[39m\u001b[38;5;124m'\u001b[39m)\n",
      "\u001b[1;31mNameError\u001b[0m: name 'append' is not defined"
     ]
    }
   ],
   "source": [
    "append('Goodbye')"
   ]
  },
  {
   "cell_type": "code",
   "execution_count": 67,
   "metadata": {},
   "outputs": [
    {
     "name": "stdout",
     "output_type": "stream",
     "text": [
      "[1, 2, 3, 'Hello', 'Goodbye']\n"
     ]
    }
   ],
   "source": [
    "# Calling a method using dot notation from the instance is the equivalent to\n",
    "# calling the method from the class and passing in the instance as the first argument\n",
    "\n",
    "list.append(list_123, 'Goodbye')\n",
    "print(list_123)"
   ]
  },
  {
   "cell_type": "markdown",
   "metadata": {},
   "source": [
    "##### Creating"
   ]
  },
  {
   "cell_type": "code",
   "execution_count": 38,
   "metadata": {},
   "outputs": [],
   "source": [
    "# Syntax: class ClassName():\n",
    "#             def method_name(self, param1, param2, etc):  # self will ALWAYS be the first parameter\n",
    "#                 <Code to execute when called>\n",
    "\n",
    "\n",
    "class Employee:\n",
    "    raise_amount = 1.10 # Class Attribute (10% raise)\n",
    "    \n",
    "    def __init__(self, first, last, salary):\n",
    "        self.first_name = first.title()\n",
    "        self.last_name = last.title()\n",
    "        self.salary = salary\n",
    "        self.email = first.lower() + last[0].lower() + '@coolcompany.com'\n",
    "        \n",
    "    def get_pay_stub(self): # Function inside of the class AKA method\n",
    "        amount = round(self.salary/24, 2)\n",
    "        print(f\"\"\"\n",
    "        Pay to the Order of: {self.first_name} {self.last_name}\n",
    "        Amount: ${amount}\n",
    "        \"\"\")\n",
    "        \n",
    "    def change_last_name(self, new_last_name):\n",
    "        # Modify the last_name attribute on the employee instance with the new last name\n",
    "        self.last_name = new_last_name.title()\n",
    "        # Modify the email address with updated last name\n",
    "        self.email = self.first_name.lower() + new_last_name[0].lower() + '@coolcompany.com'\n",
    "        \n",
    "    def apply_raise(self):\n",
    "        self.salary = round(self.salary * Employee.raise_amount)\n",
    "        print(f\"Congrats {self.first_name}, you have received a raise and your new salary is ${self.salary}\")\n",
    "        \n",
    "        \n",
    "emp_1 = Employee('George', 'Washington', 100000)\n",
    "emp_2 = Employee('Abraham', 'Lincoln', 50000)"
   ]
  },
  {
   "cell_type": "code",
   "execution_count": 39,
   "metadata": {},
   "outputs": [
    {
     "name": "stdout",
     "output_type": "stream",
     "text": [
      "\n",
      "    Pay to the Order of: George Washington\n",
      "    Amount: $4166.67\n",
      "    \n",
      "\n",
      "    Pay to the Order of: Abraham Lincoln\n",
      "    Amount: $2083.33\n",
      "    \n"
     ]
    }
   ],
   "source": [
    "# Function outside of the class\n",
    "\n",
    "def get_pay_stub(employee_instance):\n",
    "    amount = round(employee_instance.salary/24, 2)\n",
    "    print(f\"\"\"\n",
    "    Pay to the Order of: {employee_instance.first_name} {employee_instance.last_name}\n",
    "    Amount: ${amount}\n",
    "    \"\"\")\n",
    "    \n",
    "get_pay_stub(emp_1)\n",
    "get_pay_stub(emp_2)"
   ]
  },
  {
   "cell_type": "markdown",
   "metadata": {},
   "source": [
    "##### Calling"
   ]
  },
  {
   "cell_type": "code",
   "execution_count": 97,
   "metadata": {},
   "outputs": [
    {
     "name": "stdout",
     "output_type": "stream",
     "text": [
      "\n",
      "        Pay to the Order of: George Washington\n",
      "        Amount: $4166.67\n",
      "        \n",
      "\n",
      "        Pay to the Order of: Abraham Lincoln\n",
      "        Amount: $2083.33\n",
      "        \n"
     ]
    }
   ],
   "source": [
    "# Syntax: instance_var.method_name()  OR instance_var.method_name(arg1, arg2, etc.)\n",
    "\n",
    "emp_1.get_pay_stub()\n",
    "emp_2.get_pay_stub()"
   ]
  },
  {
   "cell_type": "markdown",
   "metadata": {},
   "source": [
    "##### Modifying an Attribute's Value Through a Method"
   ]
  },
  {
   "cell_type": "code",
   "execution_count": 98,
   "metadata": {},
   "outputs": [
    {
     "name": "stdout",
     "output_type": "stream",
     "text": [
      "Before: George Washington georgew@coolcompany.com\n",
      "After: George Bush georgeb@coolcompany.com\n"
     ]
    }
   ],
   "source": [
    "# Function outside of class\n",
    "\n",
    "def change_last_name(employee_instance, new_last_name):\n",
    "    # Modify the last_name attribute on the employee instance with the new last name\n",
    "    employee_instance.last_name = new_last_name.title()\n",
    "    # Modify the email address with updated last name\n",
    "    employee_instance.email = employee_instance.first_name.lower() + new_last_name[0].lower() + '@coolcompany.com'\n",
    "    \n",
    "print('Before:', emp_1.first_name, emp_1.last_name, emp_1.email)\n",
    "\n",
    "change_last_name(emp_1, 'Bush')\n",
    "\n",
    "print('After:', emp_1.first_name, emp_1.last_name, emp_1.email)"
   ]
  },
  {
   "cell_type": "code",
   "execution_count": 99,
   "metadata": {},
   "outputs": [
    {
     "name": "stdout",
     "output_type": "stream",
     "text": [
      "Before: Abraham Lincoln abrahaml@coolcompany.com\n",
      "After: Abraham Todd abrahamt@coolcompany.com\n"
     ]
    }
   ],
   "source": [
    "print('Before:', emp_2.first_name, emp_2.last_name, emp_2.email)\n",
    "\n",
    "emp_2.change_last_name('Todd')\n",
    "\n",
    "print('After:', emp_2.first_name, emp_2.last_name, emp_2.email)"
   ]
  },
  {
   "cell_type": "markdown",
   "metadata": {},
   "source": [
    "##### Incrementing an Attribute's Value Through a Method"
   ]
  },
  {
   "cell_type": "code",
   "execution_count": 100,
   "metadata": {},
   "outputs": [],
   "source": [
    "def apply_raise(emp_instance):\n",
    "    emp_instance.salary = round(emp_instance.salary * emp_instance.raise_amount)\n",
    "    print(f\"Congrats {emp_instance.first_name}, you have received a raise and your new salary is ${emp_instance.salary}\")"
   ]
  },
  {
   "cell_type": "code",
   "execution_count": 101,
   "metadata": {},
   "outputs": [
    {
     "name": "stdout",
     "output_type": "stream",
     "text": [
      "Congrats George, you have received a raise and your new salary is $110000\n"
     ]
    }
   ],
   "source": [
    "apply_raise(emp_1)"
   ]
  },
  {
   "cell_type": "code",
   "execution_count": 102,
   "metadata": {},
   "outputs": [
    {
     "name": "stdout",
     "output_type": "stream",
     "text": [
      "Congrats Abraham, you have received a raise and your new salary is $55000\n"
     ]
    }
   ],
   "source": [
    "emp_2.apply_raise()"
   ]
  },
  {
   "cell_type": "code",
   "execution_count": 103,
   "metadata": {},
   "outputs": [
    {
     "name": "stdout",
     "output_type": "stream",
     "text": [
      "Congrats Abraham, you have received a raise and your new salary is $60500\n"
     ]
    }
   ],
   "source": [
    "# Set emp_2 raise amount to 1.20\n",
    "emp_2.raise_amount = 1.20\n",
    "\n",
    "# The apply_raise uses the class attribute .raise_amount and NOT the instance_attribute .raise_amount\n",
    "emp_2.apply_raise()"
   ]
  },
  {
   "cell_type": "markdown",
   "metadata": {},
   "source": [
    "##### In-Class Exercise #3 - Add two methods to your car class. One method called `drive` that will take in the number of miles and decrease that car's `gas_level` by 1 unit for every 5 miles. Another method called `fill_up` will take in gallons and increase the `gas_level` by 10 units for every gallon."
   ]
  },
  {
   "cell_type": "code",
   "execution_count": 50,
   "metadata": {},
   "outputs": [
    {
     "name": "stdout",
     "output_type": "stream",
     "text": [
      "The blue F150 has a gas level of 80.\n",
      "The Green Mustang has a gas level of 100.\n",
      "The blue Camry has a gas level of 50.\n"
     ]
    }
   ],
   "source": [
    "# Car class\n",
    " # Class Attribute - make\n",
    " # Instance Attributes - color, model, gas_level\n",
    "\n",
    "class Truck:\n",
    "    all_trucks = []\n",
    "    id_counter = 1\n",
    "    \n",
    "    def __init__(self, color, model, miles, gallons, gas_level = 100):\n",
    "        self.color = color\n",
    "        self.model = model\n",
    "        self.gas_level = gas_level\n",
    "        self.id = Truck.id_counter\n",
    "        Truck.id_counter += 1\n",
    "        Truck.all_trucks.append(self)\n",
    "        \n",
    "        self.drive(miles)\n",
    "        self.fill_up(gallons)\n",
    "      \n",
    "    def drive(self, miles):\n",
    "        self.gas_level -= miles // 5  \n",
    "    \n",
    "    def fill_up(self, gallons):\n",
    "        self.gas_level += gallons * 10 \n",
    "\n",
    "truck1 = Truck('blue', 'F150', 100, 1)\n",
    "truck2 = Truck('Green', 'Mustang', 100, 1)\n",
    "truck3 = Truck('blue', 'Camry', 100, 1)\n",
    "\n",
    "trucks = [truck1, truck2, truck3]\n",
    "for t in trucks:\n",
    "    print(f\"The {t.color} {t.model} has a gas level of {t.gas_level}.\")\n",
    "\n",
    "\n"
   ]
  },
  {
   "cell_type": "markdown",
   "metadata": {},
   "source": [
    "## Classes as Attributes <br>\n",
    "<p>Classes can also be used as attributes within another class. This is useful in situations where you need to keep variables locally stored, instead of globally stored.</p>"
   ]
  },
  {
   "cell_type": "code",
   "execution_count": 116,
   "metadata": {},
   "outputs": [],
   "source": [
    "class Album:\n",
    "    def __init__(self, title, artist, release_year):\n",
    "        self.title = title\n",
    "        self.artist = artist\n",
    "        self.release_year = release_year\n",
    "        self.track_list = []\n",
    "        \n",
    "    def add_song(self, song):\n",
    "        self.track_list.append(song)\n",
    "        print(f\"{song.name} has been added to the album at position #{len(self.track_list)}\")\n",
    "        \n",
    "    def play_album(self):\n",
    "        for song in self.track_list:\n",
    "            song.play()\n",
    "        \n",
    "        \n",
    "class Song:\n",
    "    def __init__(self, name, length):\n",
    "        self.name = name\n",
    "        self.length = length\n",
    "        \n",
    "    def play(self):\n",
    "        print(f\"{self.name} is playing for the next {self.length}...\")\n",
    "        \n",
    "        \n",
    "class Band:\n",
    "    def __init__(self, name, members):\n",
    "        self.name = name\n",
    "        self.members = members"
   ]
  },
  {
   "cell_type": "code",
   "execution_count": 117,
   "metadata": {},
   "outputs": [],
   "source": [
    "# Create a Band instance\n",
    "the_beatles = Band('The Beatles', ['John', 'Paul', 'George', 'Ringo'])"
   ]
  },
  {
   "cell_type": "code",
   "execution_count": 118,
   "metadata": {},
   "outputs": [],
   "source": [
    "# Create an Album instance\n",
    "abbey_road = Album('Abbey Road', the_beatles, 1969)"
   ]
  },
  {
   "cell_type": "code",
   "execution_count": 119,
   "metadata": {},
   "outputs": [],
   "source": [
    "# Create 3 song instances\n",
    "song1 = Song('Come Together', '4:19')\n",
    "song2 = Song('Something', '3:02')\n",
    "song3 = Song(\"Maxwell's Silver Hammer\", '3:27')"
   ]
  },
  {
   "cell_type": "code",
   "execution_count": 120,
   "metadata": {},
   "outputs": [
    {
     "name": "stdout",
     "output_type": "stream",
     "text": [
      "Come Together has been added to the album at position #1\n",
      "Something has been added to the album at position #2\n",
      "Maxwell's Silver Hammer has been added to the album at position #3\n"
     ]
    }
   ],
   "source": [
    "# Add songs to the album\n",
    "abbey_road.add_song(song1)\n",
    "abbey_road.add_song(song2)\n",
    "abbey_road.add_song(song3)"
   ]
  },
  {
   "cell_type": "code",
   "execution_count": 121,
   "metadata": {},
   "outputs": [
    {
     "name": "stdout",
     "output_type": "stream",
     "text": [
      "Come Together is playing for the next 4:19...\n",
      "Something is playing for the next 3:02...\n",
      "Maxwell's Silver Hammer is playing for the next 3:27...\n"
     ]
    }
   ],
   "source": [
    "abbey_road.play_album()"
   ]
  },
  {
   "cell_type": "code",
   "execution_count": 124,
   "metadata": {},
   "outputs": [
    {
     "name": "stdout",
     "output_type": "stream",
     "text": [
      "The Beatles\n",
      "['John', 'Paul', 'George', 'Ringo']\n"
     ]
    }
   ],
   "source": [
    "print(abbey_road.artist.name)\n",
    "print(abbey_road.artist.members)"
   ]
  },
  {
   "cell_type": "code",
   "execution_count": 126,
   "metadata": {},
   "outputs": [
    {
     "data": {
      "text/plain": [
       "'4:19'"
      ]
     },
     "execution_count": 126,
     "metadata": {},
     "output_type": "execute_result"
    }
   ],
   "source": [
    "abbey_road.track_list[0].length"
   ]
  },
  {
   "cell_type": "code",
   "execution_count": 132,
   "metadata": {},
   "outputs": [],
   "source": [
    "class User:\n",
    "    def __init__(self, username, email, password):\n",
    "        self.username = username\n",
    "        self.email = email\n",
    "        self.pw_hash = password[::-2]\n",
    "        \n",
    "    def check_password(self, pw_guess):\n",
    "        return self.pw_hash == pw_guess[::-2]\n",
    "    \n",
    "    \n",
    "class Post:\n",
    "    def __init__(self, title, body, author):\n",
    "        self.title = title\n",
    "        self.body = body\n",
    "        self.author = author\n",
    "        \n",
    "    def display_post(self):\n",
    "        print(f\"\"\"\n",
    "        {self.title} by {self.author.username}\n",
    "        {self.body}\n",
    "        Email the author at {self.author.email}\n",
    "        \"\"\")"
   ]
  },
  {
   "cell_type": "code",
   "execution_count": 133,
   "metadata": {},
   "outputs": [
    {
     "name": "stdout",
     "output_type": "stream",
     "text": [
      "\n",
      "        First Post by brians\n",
      "        This is my very first post. I hope you like it.\n",
      "        Email the author at brians@codingtemple.com\n",
      "        \n"
     ]
    }
   ],
   "source": [
    "u = User('brians', 'brians@codingtemple.com', 'abc123')\n",
    "\n",
    "p = Post('First Post', 'This is my very first post. I hope you like it.', u)\n",
    "\n",
    "p.display_post()"
   ]
  },
  {
   "cell_type": "code",
   "execution_count": 134,
   "metadata": {},
   "outputs": [
    {
     "data": {
      "text/plain": [
       "True"
      ]
     },
     "execution_count": 134,
     "metadata": {},
     "output_type": "execute_result"
    }
   ],
   "source": [
    "p.author.check_password('abc123')"
   ]
  },
  {
   "cell_type": "markdown",
   "metadata": {},
   "source": [
    "# Exercises"
   ]
  },
  {
   "cell_type": "markdown",
   "metadata": {},
   "source": [
    "### Exercise 1 - Write a Python class for an Animal that has a name and energy attributes. The animal class should also have methods for eat, sleep, and play that will take in an integer and increase/decrease the energy of the animal with a formatted print statement"
   ]
  },
  {
   "cell_type": "code",
   "execution_count": 47,
   "metadata": {},
   "outputs": [
    {
     "name": "stdout",
     "output_type": "stream",
     "text": [
      "Billy the puppy has been playing for 40 and now has 60.\n",
      "Rafael the turtle has been playing for 35 and now has 65.\n",
      "Gary the python has been playing for 30 and now has 70.\n",
      "\n",
      "Billy the puppy ate 5 treats and slept for 7 hours. His new energy level is 98\n",
      "\n",
      "Rafael the turtle ate 3 treats and slept for 6 hours. His new energy level is 95\n",
      "\n",
      "Gary the python ate 2 treats and slept for 4 hours. His new energy level is 90\n"
     ]
    }
   ],
   "source": [
    "class Animal:\n",
    "    all_animals = []\n",
    "   \n",
    "    \n",
    "    def __init__(self, animal_type, minutes_played, eating, sleeping, energy = 100):\n",
    "        self.animal_type = animal_type\n",
    "        self.energy = energy\n",
    "        \n",
    "        Animal.all_animals.append(self)\n",
    "        \n",
    "        self.minutes_played= (minutes_played)\n",
    "        self.eat(eating)\n",
    "        self.sleep(sleeping)\n",
    "        self.playing(minutes_played)\n",
    "        self.eat(eating)\n",
    "        self.sleep(sleeping)\n",
    "      \n",
    "    def playing(self, minutes_played):\n",
    "        self.energy -= minutes_played  \n",
    "    \n",
    "    def eat(self, eating):\n",
    "        self.energy += eating * 2 \n",
    "\n",
    "    def sleep(self, sleeping):\n",
    "        self.energy += sleeping * 4 \n",
    "\n",
    "animal1 = Animal('Billy the puppy', 40, 0, 0)\n",
    "animal2 = Animal('Rafael the turtle',35, 0, 0)\n",
    "animal3 = Animal('Gary the python', 30, 0, 0)\n",
    "\n",
    "animals = [animal1, animal2, animal3]\n",
    "for a in animals:\n",
    "    print(f\"{a.animal_type} has been playing for {a.minutes_played} and now has {a.energy}.\")\n",
    "\n",
    "animal1.eating = 5\n",
    "animal1.sleeping = 7\n",
    "animal1.eat(animal1.eating)\n",
    "animal1.sleep(animal1.sleeping)\n",
    "\n",
    "animal2.eating = 3\n",
    "animal2.sleeping = 6\n",
    "animal2.eat(animal2.eating)\n",
    "animal2.sleep(animal2.sleeping)\n",
    "\n",
    "animal3.eating = 2\n",
    "animal3.sleeping = 4\n",
    "animal3.eat(animal3.eating)\n",
    "animal3.sleep(animal3.sleeping)\n",
    "\n",
    "for a in animals:\n",
    "    print(f\"\\n{a.animal_type} ate {a.eating} treats and slept for {a.sleeping} hours. His new energy level is {a.energy}\")\n",
    "\n"
   ]
  },
  {
   "cell_type": "markdown",
   "metadata": {},
   "source": [
    "### Exercise 2 - Turn the shopping cart program into an object-oriented program"
   ]
  },
  {
   "cell_type": "code",
   "execution_count": 50,
   "metadata": {},
   "outputs": [
    {
     "name": "stdout",
     "output_type": "stream",
     "text": [
      "I've updated your cart: \n",
      "Item: Pizza, Price: 20.0, Quantity: 2\n",
      "Thank you for shopping with us! Here is your final cart: \n",
      "Item: Pizza, Price: 20.0, Quantity: 2\n"
     ]
    }
   ],
   "source": [
    "class CartItem:\n",
    "    def __init__(self, name, price, quantity):\n",
    "        self.name = name\n",
    "        self.price = price\n",
    "        self.quantity = quantity\n",
    "\n",
    "class Cart:\n",
    "    def __init__(self):\n",
    "        self.cart_items = {}\n",
    "\n",
    "    def add_item(self, item):\n",
    "        self.cart_items[item.name] = item\n",
    "\n",
    "    def remove_item(self, name):\n",
    "        if name in self.cart_items:\n",
    "            del self.cart_items[name]\n",
    "\n",
    "    def update_item(self, name, price, quantity):\n",
    "        if name in self.cart_items:\n",
    "            self.cart_items[name].price = price\n",
    "            self.cart_items[name].quantity = quantity\n",
    "\n",
    "    def show_items(self):\n",
    "        for name, item in self.cart_items.items():\n",
    "            print(f'Item: {name}, Price: {item.price}, Quantity: {item.quantity}')\n",
    "\n",
    "def get_float(prompt):\n",
    "    while True:\n",
    "        try:\n",
    "            return float(input(prompt))\n",
    "        except ValueError:\n",
    "            print(\"Please enter a valid number.\")\n",
    "\n",
    "def get_int(prompt):\n",
    "    while True:\n",
    "        try:\n",
    "            return int(input(prompt))\n",
    "        except ValueError:\n",
    "            print(\"Please enter a valid integer.\")\n",
    "\n",
    "\n",
    "cart = Cart()\n",
    "\n",
    "def run_program(): \n",
    "    run_program = '0'\n",
    "    while run_program != '4':\n",
    "        run_program = input('Welcome to Mike\\'s shopping cart app. What would you like to do?\\n Remember when entering a price or a quantity use the \\\"0.00\\\" format!\\n\\t To add an item type 1\\n\\t To remove an item type 2\\n\\t To update an item quantity/price type 3\\n\\t To exit type 4\\n')\n",
    "        while not run_program.isdigit():\n",
    "            run_program = input('Please enter a number')\n",
    "\n",
    "        if run_program == '1':\n",
    "            name = input('Enter the name of the item you wish to add: ').lower().title()\n",
    "            price = get_float('Enter the price: ')\n",
    "            quantity = get_int('Enter the quantity: ')\n",
    "            cart.add_item(CartItem(name, price, quantity))\n",
    "            print('I\\'ve updated your cart: ')\n",
    "            cart.show_items()\n",
    "\n",
    "        elif run_program == '2':\n",
    "            name = input('Enter the name of the item to remove: ').lower().title()\n",
    "            cart.remove_item(name)\n",
    "            print('I\\'ve updated your cart: ')\n",
    "            cart.show_items()\n",
    "\n",
    "        elif run_program == '3':\n",
    "            name = input('Enter the name of the item to update: ').lower().title()\n",
    "            new_price = get_float('Enter the new price: ')\n",
    "            new_quantity = get_int('Enter the new quantity: ')\n",
    "            cart.update_item(name, new_price, new_quantity)\n",
    "            print('I\\'ve updated your cart: ')\n",
    "            cart.show_items()\n",
    "\n",
    "    print('Thank you for shopping with us! Here is what your cart contains: ')\n",
    "    cart.show_items()\n",
    "\n",
    "run_program()"
   ]
  },
  {
   "cell_type": "code",
   "execution_count": null,
   "metadata": {},
   "outputs": [],
   "source": []
  },
  {
   "cell_type": "code",
   "execution_count": null,
   "metadata": {},
   "outputs": [],
   "source": []
  }
 ],
 "metadata": {
  "kernelspec": {
   "display_name": "Python 3 (ipykernel)",
   "language": "python",
   "name": "python3"
  },
  "language_info": {
   "codemirror_mode": {
    "name": "ipython",
    "version": 3
   },
   "file_extension": ".py",
   "mimetype": "text/x-python",
   "name": "python",
   "nbconvert_exporter": "python",
   "pygments_lexer": "ipython3",
   "version": "3.12.2"
  }
 },
 "nbformat": 4,
 "nbformat_minor": 2
}
